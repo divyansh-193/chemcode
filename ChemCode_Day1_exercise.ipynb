{
  "nbformat": 4,
  "nbformat_minor": 0,
  "metadata": {
    "colab": {
      "provenance": []
    },
    "kernelspec": {
      "name": "python3",
      "display_name": "Python 3"
    },
    "language_info": {
      "name": "python"
    }
  },
  "cells": [
    {
      "cell_type": "markdown",
      "source": [
        "\n",
        "# Day 1 Exercise:\n",
        "\n",
        "##(Ex1)\n",
        "##Description:\n",
        "Create a program that prompts the user to enter the following information about a student:\n",
        "\n",
        "Student's name\n",
        "\n",
        "Student's age\n",
        "\n",
        "Student's grade\n",
        "\n",
        "The program should then display(print) this information in a user friendly manner.\n",
        "\n",
        "##Hint:\n",
        "There is an 'in-built' function that takes your 'input'. If you're stuck, the lecture video will help!"
      ],
      "metadata": {
        "id": "rSJFU4eeuEyQ"
      }
    },
    {
      "cell_type": "code",
      "source": [
        "name = input(\"Enter your name: \")\n",
        "age = input(\"Enter your age: \")\n",
        "grade = input(\"Enter your grade: \")\n",
        "\n",
        "print(\"Name: \", name)\n",
        "print(\"Age: \", age)\n",
        "print(\"Grade: \", grade)"
      ],
      "metadata": {
        "id": "lU5EXkh6uxGg",
        "colab": {
          "base_uri": "https://localhost:8080/"
        },
        "outputId": "17d275c5-2664-4bd1-e6bd-11c69450d2b1"
      },
      "execution_count": 1,
      "outputs": [
        {
          "output_type": "stream",
          "name": "stdout",
          "text": [
            "Enter your name: Divyansh \n",
            "Enter your age: 21\n",
            "Enter your grade: 2\n",
            "Name:  Divyansh \n",
            "Age:  21\n",
            "Grade:  2\n"
          ]
        }
      ]
    },
    {
      "cell_type": "markdown",
      "source": [
        "##(Ex2)\n",
        "\n",
        "##Description:\n",
        "Check the datatype of name, age and grade using the in-built type() function.\n",
        "\n",
        "Then, if the data type of age and grade is 'str' (which means string/character), change it to the data type 'int'\n",
        "\n",
        "###Hint:\n",
        "Check for 'in-built functions'. If you're stuck, the lecture video will help!\n"
      ],
      "metadata": {
        "id": "g3ZfpQzLu2UD"
      }
    },
    {
      "cell_type": "code",
      "source": [
        "type(age)"
      ],
      "metadata": {
        "colab": {
          "base_uri": "https://localhost:8080/"
        },
        "id": "pKyeG4nliBQ4",
        "outputId": "9e4f9a62-09c7-44a3-f082-7fdbbf70d641"
      },
      "execution_count": 4,
      "outputs": [
        {
          "output_type": "execute_result",
          "data": {
            "text/plain": [
              "str"
            ]
          },
          "metadata": {},
          "execution_count": 4
        }
      ]
    },
    {
      "cell_type": "code",
      "source": [
        "type(grade)"
      ],
      "metadata": {
        "colab": {
          "base_uri": "https://localhost:8080/"
        },
        "id": "P12swlp1iRWc",
        "outputId": "205b43cb-c54a-4df5-c0d7-f1899f735e78"
      },
      "execution_count": 5,
      "outputs": [
        {
          "output_type": "execute_result",
          "data": {
            "text/plain": [
              "str"
            ]
          },
          "metadata": {},
          "execution_count": 5
        }
      ]
    },
    {
      "cell_type": "code",
      "source": [
        "age = int(age)\n",
        "grade = float(grade)"
      ],
      "metadata": {
        "id": "xZ6iFYlWxDKO"
      },
      "execution_count": 6,
      "outputs": []
    },
    {
      "cell_type": "code",
      "source": [
        "type(age)"
      ],
      "metadata": {
        "colab": {
          "base_uri": "https://localhost:8080/"
        },
        "id": "1QGr9zp-iT1r",
        "outputId": "980cf442-8ea0-4130-e74a-21c49a39c024"
      },
      "execution_count": 7,
      "outputs": [
        {
          "output_type": "execute_result",
          "data": {
            "text/plain": [
              "int"
            ]
          },
          "metadata": {},
          "execution_count": 7
        }
      ]
    },
    {
      "cell_type": "code",
      "source": [
        "type(grade)"
      ],
      "metadata": {
        "colab": {
          "base_uri": "https://localhost:8080/"
        },
        "id": "bgP0h3IfiV7d",
        "outputId": "aadd90f5-53eb-4bb4-82b4-600944e43d0a"
      },
      "execution_count": 8,
      "outputs": [
        {
          "output_type": "execute_result",
          "data": {
            "text/plain": [
              "float"
            ]
          },
          "metadata": {},
          "execution_count": 8
        }
      ]
    },
    {
      "cell_type": "markdown",
      "source": [
        "##(Ex3)\n",
        "\n",
        "##Description:\n",
        "\n",
        "\n",
        "1.   Create a list of 5 numbers. Call it any variable [Ex: a, number, my_list etc.]. Do not call it 'list'. IF you want to know why, test it out for yourself!\n",
        "2.   Display the first three numbers of the list. Use the 'slicing method'. Do not print directly. If you're stuck, the lecture video will help!\n",
        "3.   Store these three numbers in another list and 'append' more two more numbers to this new list. If you're stuck, the lecture video will help!\n",
        "\n"
      ],
      "metadata": {
        "id": "EQox_OA-xGMN"
      }
    },
    {
      "cell_type": "code",
      "source": [
        "number = [1, 2, 3, 4, 5]\n",
        "print(number[0:3])"
      ],
      "metadata": {
        "id": "PEdpEDV811RK",
        "colab": {
          "base_uri": "https://localhost:8080/"
        },
        "outputId": "eb471953-92ba-4ffa-f676-cafa90a98f21"
      },
      "execution_count": 9,
      "outputs": [
        {
          "output_type": "stream",
          "name": "stdout",
          "text": [
            "[1, 2, 3]\n"
          ]
        }
      ]
    },
    {
      "cell_type": "code",
      "source": [
        "number1 = [1, 2, 3]\n",
        "number1.append(4)\n",
        "number1.append(5)\n",
        "print(number1)"
      ],
      "metadata": {
        "colab": {
          "base_uri": "https://localhost:8080/"
        },
        "id": "rmbeTwTOioB9",
        "outputId": "77d8cb44-9b45-4bb4-9ac2-080b82b53c0c"
      },
      "execution_count": 15,
      "outputs": [
        {
          "output_type": "stream",
          "name": "stdout",
          "text": [
            "[1, 2, 3, 4, 5]\n"
          ]
        }
      ]
    },
    {
      "cell_type": "markdown",
      "source": [
        "##(Ex4)\n",
        "\n",
        "##Description:\n",
        "This will bring everything from day 1 together.\n",
        "\n",
        "\n",
        "\n",
        "1.   Create an empty dictionary. Call it anything but 'dict'. If you're curious, you can check why.\n",
        "2.   In your dictionary, create a 'key' called 'Course' and ask the user (you) to input a course name.\n",
        "3.   Add another 'key' to your dictionary called 'grade' and ask the user to input the grade.\n",
        "4.   If you haven't noticed yet, check the datatype of 'grade'. You put in a number but it is a string. So, convert it to an integer or float datatype.\n",
        "\n",
        "##Hint:\n",
        "If you're stuck, the lecture video will help for this problem!\n",
        "\n",
        "Changing the datatype and 'replacing' the value of grade can happen in two steps.\n",
        "\n"
      ],
      "metadata": {
        "id": "HICOjRcs26f3"
      }
    },
    {
      "cell_type": "code",
      "source": [
        "dictionary = {}"
      ],
      "metadata": {
        "id": "BrFj37eH3O9h"
      },
      "execution_count": 16,
      "outputs": []
    },
    {
      "cell_type": "code",
      "source": [
        "type(dictionary)"
      ],
      "metadata": {
        "colab": {
          "base_uri": "https://localhost:8080/"
        },
        "id": "hFxmxA2BjNYn",
        "outputId": "08e587c1-d7e2-4921-d42b-750af15ea879"
      },
      "execution_count": 18,
      "outputs": [
        {
          "output_type": "execute_result",
          "data": {
            "text/plain": [
              "dict"
            ]
          },
          "metadata": {},
          "execution_count": 18
        }
      ]
    },
    {
      "cell_type": "code",
      "source": [
        "dictionary['Course'] = input(\"Enter a course name: \")\n",
        "dictionary['grade'] = int(input(\"Enter your grade: \"))"
      ],
      "metadata": {
        "colab": {
          "base_uri": "https://localhost:8080/"
        },
        "id": "xv9JLg9PjTpE",
        "outputId": "8db67ae5-da78-4077-d6fa-3a367ae8244a"
      },
      "execution_count": 22,
      "outputs": [
        {
          "name": "stdout",
          "output_type": "stream",
          "text": [
            "Enter a course name: Divyansh\n",
            "Enter your grade: 3\n"
          ]
        }
      ]
    },
    {
      "cell_type": "code",
      "source": [
        "print(dictionary)"
      ],
      "metadata": {
        "colab": {
          "base_uri": "https://localhost:8080/"
        },
        "id": "J32FryeGkR33",
        "outputId": "93f869b6-873e-409e-f3fd-208a922568ae"
      },
      "execution_count": 23,
      "outputs": [
        {
          "output_type": "stream",
          "name": "stdout",
          "text": [
            "{'Course': 'Divyansh', 'grade': 3}\n"
          ]
        }
      ]
    }
  ]
}