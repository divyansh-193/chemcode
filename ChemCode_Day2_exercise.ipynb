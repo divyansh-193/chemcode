{
  "nbformat": 4,
  "nbformat_minor": 0,
  "metadata": {
    "colab": {
      "provenance": []
    },
    "kernelspec": {
      "name": "python3",
      "display_name": "Python 3"
    },
    "language_info": {
      "name": "python"
    }
  },
  "cells": [
    {
      "cell_type": "markdown",
      "source": [
        "#(Ex1)\n",
        "\n",
        "###Check if a name is a palindrome!\n",
        "\n",
        "Definition: a word, phrase, or sequence that reads the same backward as forward, e.g., madam\n",
        "\n",
        "1. Ask the user to input a name and store it in a variable. Make sure to use the lower() function to generalize the input. More details in the lecture video!\n",
        "2. Check the 'type' of 'name'.\n",
        "3. Your code has to reverse the 'name' and check if it is same as the original 'name'. You should NOT do this manually.\n",
        "\n",
        "##Hint: Try indexing the second element in 'name'. If you can do this, check if you can iterate over the 'name' you provided!"
      ],
      "metadata": {
        "id": "fhK1Pan_WaQ5"
      }
    },
    {
      "cell_type": "code",
      "source": [
        "name = input(\"Enter your name : \").lower()"
      ],
      "metadata": {
        "id": "Yh_3pmewWg_h",
        "colab": {
          "base_uri": "https://localhost:8080/"
        },
        "outputId": "54167ad1-0bcd-47a3-b860-9f0a6ec4cf36"
      },
      "execution_count": 2,
      "outputs": [
        {
          "name": "stdout",
          "output_type": "stream",
          "text": [
            "Enter your name : Divyansh\n"
          ]
        }
      ]
    },
    {
      "cell_type": "code",
      "source": [
        "type(name)"
      ],
      "metadata": {
        "colab": {
          "base_uri": "https://localhost:8080/"
        },
        "id": "WJnjf9snl72Z",
        "outputId": "0263e283-cad0-49a6-dbd8-552f67cf0947"
      },
      "execution_count": 3,
      "outputs": [
        {
          "output_type": "execute_result",
          "data": {
            "text/plain": [
              "str"
            ]
          },
          "metadata": {},
          "execution_count": 3
        }
      ]
    },
    {
      "cell_type": "code",
      "source": [
        "name1 = name[::-1]"
      ],
      "metadata": {
        "id": "3prDM81ul_BT"
      },
      "execution_count": 4,
      "outputs": []
    },
    {
      "cell_type": "code",
      "source": [
        "print(name1)"
      ],
      "metadata": {
        "colab": {
          "base_uri": "https://localhost:8080/"
        },
        "id": "yNgqQpSzma3H",
        "outputId": "3c364c8c-5fd6-4d6b-dafd-39a4314ebba2"
      },
      "execution_count": 5,
      "outputs": [
        {
          "output_type": "stream",
          "name": "stdout",
          "text": [
            "hsnayvid\n"
          ]
        }
      ]
    },
    {
      "cell_type": "code",
      "source": [
        "if name == name1:\n",
        "  print(\"Palindrome\")\n",
        "else:\n",
        "  print(\"Not Palindrome\")"
      ],
      "metadata": {
        "colab": {
          "base_uri": "https://localhost:8080/"
        },
        "id": "1cNoy4BTmNXR",
        "outputId": "cc30ba38-87ca-447f-a2b7-6c192da1adae"
      },
      "execution_count": 6,
      "outputs": [
        {
          "output_type": "stream",
          "name": "stdout",
          "text": [
            "Not Palindrome\n"
          ]
        }
      ]
    },
    {
      "cell_type": "markdown",
      "source": [
        "#(Ex2)\n",
        "\n",
        "###Fibonacci sequence generator:\n",
        "\n",
        "A fibonacci sequence is a set of numbers where the next number in the set is found by adding the two numbers before it.\n",
        "\n",
        "Here's an example sequence:\n",
        "\n",
        "0, 1, 1, 2, 3, 5, 8, 13, 21...\n",
        "\n",
        "This sequence can go on forever! So, if the user asks for the first 10 numbers in this sequence, your code should provide only the first 10 numbers of this sequence.\n",
        "\n",
        "For more info: https://www.mathsisfun.com/numbers/fibonacci-sequence.html\n",
        "\n",
        "1. First, initialize an empty 'list' to store the sequence\n",
        "2. Since this sequence always starts with 0, 1 as the first two numbers, store these two numbers in two separate 'variables'.\n",
        "3. For a given length of the sequence (from the user, AKA you) make sure your loop returns the fibonacci sequence.\n",
        "4. Use the lecture video to learn more about for loops!\n",
        "\n",
        "##Hint: This will take some time to understand and implement. It all depends on your understanding of how the for() loop works! Consider working in groups!"
      ],
      "metadata": {
        "id": "7wyAsqL-FWHi"
      }
    },
    {
      "cell_type": "code",
      "source": [
        "# Your code here:\n",
        "count = 0\n",
        "num = 1\n",
        "fibo = []\n",
        "for i in range(10):\n",
        "  count = count + num\n",
        "  fibo.append(count)"
      ],
      "metadata": {
        "id": "XClzGRffJ_SF"
      },
      "execution_count": 7,
      "outputs": []
    },
    {
      "cell_type": "code",
      "source": [
        "count"
      ],
      "metadata": {
        "colab": {
          "base_uri": "https://localhost:8080/"
        },
        "id": "KRtCWeIaq5cA",
        "outputId": "b6a3a54d-6c78-43ce-d282-1261030adecb"
      },
      "execution_count": 8,
      "outputs": [
        {
          "output_type": "execute_result",
          "data": {
            "text/plain": [
              "10"
            ]
          },
          "metadata": {},
          "execution_count": 8
        }
      ]
    },
    {
      "cell_type": "code",
      "source": [
        "fibo"
      ],
      "metadata": {
        "colab": {
          "base_uri": "https://localhost:8080/"
        },
        "id": "Jgg-TiwRq8xa",
        "outputId": "5f3dcfad-d9d4-4575-f4cf-b5b53fb17c93"
      },
      "execution_count": 9,
      "outputs": [
        {
          "output_type": "execute_result",
          "data": {
            "text/plain": [
              "[1, 2, 3, 4, 5, 6, 7, 8, 9, 10]"
            ]
          },
          "metadata": {},
          "execution_count": 9
        }
      ]
    },
    {
      "cell_type": "code",
      "source": [
        "count = 0\n",
        "num = 1"
      ],
      "metadata": {
        "id": "CL2nhFnyrTn2"
      },
      "execution_count": 10,
      "outputs": []
    },
    {
      "cell_type": "code",
      "source": [
        "num"
      ],
      "metadata": {
        "colab": {
          "base_uri": "https://localhost:8080/"
        },
        "id": "ISuROeR6r_qh",
        "outputId": "de04f2c0-f310-4636-d6d1-2c9ecc06013a"
      },
      "execution_count": 11,
      "outputs": [
        {
          "output_type": "execute_result",
          "data": {
            "text/plain": [
              "1"
            ]
          },
          "metadata": {},
          "execution_count": 11
        }
      ]
    },
    {
      "cell_type": "code",
      "source": [
        "count"
      ],
      "metadata": {
        "colab": {
          "base_uri": "https://localhost:8080/"
        },
        "id": "QgXXZztosAlQ",
        "outputId": "cd10133d-2c9f-48a0-84b8-aab38efab30f"
      },
      "execution_count": 12,
      "outputs": [
        {
          "output_type": "execute_result",
          "data": {
            "text/plain": [
              "0"
            ]
          },
          "metadata": {},
          "execution_count": 12
        }
      ]
    },
    {
      "cell_type": "code",
      "source": [
        "count = num\n",
        "num += 1"
      ],
      "metadata": {
        "id": "n_XftrsesBYm"
      },
      "execution_count": 13,
      "outputs": []
    },
    {
      "cell_type": "code",
      "source": [
        "count"
      ],
      "metadata": {
        "id": "0rBTU7fesFxd",
        "outputId": "b9a61186-5f2e-464e-ea8d-17e69c7b88f1",
        "colab": {
          "base_uri": "https://localhost:8080/"
        }
      },
      "execution_count": 14,
      "outputs": [
        {
          "output_type": "execute_result",
          "data": {
            "text/plain": [
              "1"
            ]
          },
          "metadata": {},
          "execution_count": 14
        }
      ]
    },
    {
      "cell_type": "code",
      "source": [
        "num"
      ],
      "metadata": {
        "id": "52VY6j_gsGX-",
        "outputId": "32cf2b8a-ee27-462a-df2d-1c22d636b8ee",
        "colab": {
          "base_uri": "https://localhost:8080/"
        }
      },
      "execution_count": 15,
      "outputs": [
        {
          "output_type": "execute_result",
          "data": {
            "text/plain": [
              "2"
            ]
          },
          "metadata": {},
          "execution_count": 15
        }
      ]
    },
    {
      "cell_type": "code",
      "source": [
        "n = 10\n",
        "num1 = 0\n",
        "num2 = 1\n",
        "next_number = num2\n",
        "count = 1\n",
        "\n",
        "while count < n:\n",
        "    print(next_number, end=\" \")\n",
        "    count += 1\n",
        "    num1, num2 = num2, next_number\n",
        "    next_number = num1 + num2\n",
        "print()"
      ],
      "metadata": {
        "id": "3RO4uaxZsIKh",
        "colab": {
          "base_uri": "https://localhost:8080/"
        },
        "outputId": "0442511a-df73-4c01-acb4-27b6bd34c83e"
      },
      "execution_count": 18,
      "outputs": [
        {
          "output_type": "stream",
          "name": "stdout",
          "text": [
            "1 2 3 5 8 13 21 34 55 \n"
          ]
        }
      ]
    }
  ]
}