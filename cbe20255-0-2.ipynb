{
 "cells": [
  {
   "cell_type": "code",
   "execution_count": 1,
   "id": "75bf8102",
   "metadata": {
    "_cell_guid": "b1076dfc-b9ad-4769-8c92-a6c4dae69d19",
    "_uuid": "8f2839f25d086af736a60e9eeb907d3b93b6e0e5",
    "execution": {
     "iopub.execute_input": "2024-06-24T11:16:15.178043Z",
     "iopub.status.busy": "2024-06-24T11:16:15.177646Z",
     "iopub.status.idle": "2024-06-24T11:16:15.307046Z",
     "shell.execute_reply": "2024-06-24T11:16:15.305941Z"
    },
    "papermill": {
     "duration": 0.136358,
     "end_time": "2024-06-24T11:16:15.309268",
     "exception": false,
     "start_time": "2024-06-24T11:16:15.172910",
     "status": "completed"
    },
    "tags": []
   },
   "outputs": [
    {
     "data": {
      "image/jpeg": "[encoded data removed]",
      "text/html": [
       "\n",
       "        <iframe\n",
       "            width=\"560\"\n",
       "            height=\"315\"\n",
       "            src=\"https://www.youtube.com/embed/KrrZB5LvXF4?start=0&end=144&rel=0\"\n",
       "            frameborder=\"0\"\n",
       "            allowfullscreen\n",
       "            \n",
       "        ></iframe>\n",
       "        "
      ],
      "text/plain": [
       "<IPython.lib.display.YouTubeVideo at 0x7d4ca4143850>"
      ]
     },
     "execution_count": 1,
     "metadata": {},
     "output_type": "execute_result"
    }
   ],
   "source": [
    "from IPython.display import YouTubeVideo\n",
    "YouTubeVideo(\"KrrZB5LvXF4\",560,315,start=0,end=144,rel=0)"
   ]
  },
  {
   "cell_type": "code",
   "execution_count": 2,
   "id": "bd5de65e",
   "metadata": {
    "execution": {
     "iopub.execute_input": "2024-06-24T11:16:15.317787Z",
     "iopub.status.busy": "2024-06-24T11:16:15.317424Z",
     "iopub.status.idle": "2024-06-24T11:16:16.094315Z",
     "shell.execute_reply": "2024-06-24T11:16:16.093287Z"
    },
    "papermill": {
     "duration": 0.784051,
     "end_time": "2024-06-24T11:16:16.096727",
     "exception": false,
     "start_time": "2024-06-24T11:16:15.312676",
     "status": "completed"
    },
    "tags": []
   },
   "outputs": [
    {
     "data": {
      "text/plain": [
       "[n1, n2]"
      ]
     },
     "execution_count": 2,
     "metadata": {},
     "output_type": "execute_result"
    }
   ],
   "source": [
    "import sympy as sym\n",
    "sym.var(['n1','n2'])"
   ]
  },
  {
   "cell_type": "code",
   "execution_count": 3,
   "id": "6988d7a9",
   "metadata": {
    "execution": {
     "iopub.execute_input": "2024-06-24T11:16:16.105080Z",
     "iopub.status.busy": "2024-06-24T11:16:16.104590Z",
     "iopub.status.idle": "2024-06-24T11:16:16.184545Z",
     "shell.execute_reply": "2024-06-24T11:16:16.183269Z"
    },
    "papermill": {
     "duration": 0.086796,
     "end_time": "2024-06-24T11:16:16.186929",
     "exception": false,
     "start_time": "2024-06-24T11:16:16.100133",
     "status": "completed"
    },
    "tags": []
   },
   "outputs": [
    {
     "name": "stdout",
     "output_type": "stream",
     "text": [
      "[Eq(n1 + n2, 100), Eq(0.7*n1 + 0.2*n2, 30)]\n"
     ]
    }
   ],
   "source": [
    "eqns = [\n",
    "    sym.Eq(n1+n2,100),\n",
    "    sym.Eq(0.7*n1 + 0.2*n2, 30)\n",
    "]\n",
    "\n",
    "print(eqns)"
   ]
  },
  {
   "cell_type": "code",
   "execution_count": 4,
   "id": "2d952ff9",
   "metadata": {
    "execution": {
     "iopub.execute_input": "2024-06-24T11:16:16.195882Z",
     "iopub.status.busy": "2024-06-24T11:16:16.194979Z",
     "iopub.status.idle": "2024-06-24T11:16:16.216858Z",
     "shell.execute_reply": "2024-06-24T11:16:16.215509Z"
    },
    "papermill": {
     "duration": 0.028887,
     "end_time": "2024-06-24T11:16:16.219228",
     "exception": false,
     "start_time": "2024-06-24T11:16:16.190341",
     "status": "completed"
    },
    "tags": []
   },
   "outputs": [
    {
     "name": "stdout",
     "output_type": "stream",
     "text": [
      "{n1: 20.0000000000000, n2: 80.0000000000000}\n"
     ]
    }
   ],
   "source": [
    "soln = sym.solve(eqns)\n",
    "print(soln)"
   ]
  },
  {
   "cell_type": "code",
   "execution_count": 5,
   "id": "ea1ca974",
   "metadata": {
    "execution": {
     "iopub.execute_input": "2024-06-24T11:16:16.227579Z",
     "iopub.status.busy": "2024-06-24T11:16:16.227230Z",
     "iopub.status.idle": "2024-06-24T11:16:16.257637Z",
     "shell.execute_reply": "2024-06-24T11:16:16.256639Z"
    },
    "papermill": {
     "duration": 0.037347,
     "end_time": "2024-06-24T11:16:16.260093",
     "exception": false,
     "start_time": "2024-06-24T11:16:16.222746",
     "status": "completed"
    },
    "tags": []
   },
   "outputs": [
    {
     "data": {
      "image/jpeg": "[encoded data removed]",
      "text/html": [
       "\n",
       "        <iframe\n",
       "            width=\"560\"\n",
       "            height=\"315\"\n",
       "            src=\"https://www.youtube.com/embed/KrrZB5LvXF4?start=144&end=166&rel=0\"\n",
       "            frameborder=\"0\"\n",
       "            allowfullscreen\n",
       "            \n",
       "        ></iframe>\n",
       "        "
      ],
      "text/plain": [
       "<IPython.lib.display.YouTubeVideo at 0x7d4ca41434f0>"
      ]
     },
     "execution_count": 5,
     "metadata": {},
     "output_type": "execute_result"
    }
   ],
   "source": [
    "from IPython.display import YouTubeVideo\n",
    "YouTubeVideo(\"KrrZB5LvXF4\",560,315,start=144,end=166,rel=0)"
   ]
  },
  {
   "cell_type": "code",
   "execution_count": 6,
   "id": "f141ff99",
   "metadata": {
    "execution": {
     "iopub.execute_input": "2024-06-24T11:16:16.269505Z",
     "iopub.status.busy": "2024-06-24T11:16:16.268653Z",
     "iopub.status.idle": "2024-06-24T11:16:16.275618Z",
     "shell.execute_reply": "2024-06-24T11:16:16.274599Z"
    },
    "papermill": {
     "duration": 0.014108,
     "end_time": "2024-06-24T11:16:16.277901",
     "exception": false,
     "start_time": "2024-06-24T11:16:16.263793",
     "status": "completed"
    },
    "tags": []
   },
   "outputs": [
    {
     "data": {
      "text/plain": [
       "[v1, v2, v3]"
      ]
     },
     "execution_count": 6,
     "metadata": {},
     "output_type": "execute_result"
    }
   ],
   "source": [
    "sym.var(['v1','v2','v3'])"
   ]
  },
  {
   "cell_type": "code",
   "execution_count": 7,
   "id": "81c52915",
   "metadata": {
    "execution": {
     "iopub.execute_input": "2024-06-24T11:16:16.287564Z",
     "iopub.status.busy": "2024-06-24T11:16:16.287159Z",
     "iopub.status.idle": "2024-06-24T11:16:16.317678Z",
     "shell.execute_reply": "2024-06-24T11:16:16.316460Z"
    },
    "papermill": {
     "duration": 0.037757,
     "end_time": "2024-06-24T11:16:16.319864",
     "exception": false,
     "start_time": "2024-06-24T11:16:16.282107",
     "status": "completed"
    },
    "tags": []
   },
   "outputs": [
    {
     "name": "stdout",
     "output_type": "stream",
     "text": [
      "[Eq(v1 + v2 + v3, 100), Eq(0.8*v1 + 0.5*v2 + 0.25*v3, 60), Eq(0.16*v1 + 0.233*v2 + 0.5*v3, 25)]\n"
     ]
    }
   ],
   "source": [
    "eqns1 = [\n",
    "    sym.Eq(v1+v2+v3, 100),\n",
    "    sym.Eq(0.8*v1 + 0.5*v2 + 0.25*v3, 60),\n",
    "    sym.Eq(0.16*v1 + 0.233*v2 + 0.5*v3, 25),\n",
    "]\n",
    "print(eqns1)"
   ]
  },
  {
   "cell_type": "code",
   "execution_count": 8,
   "id": "f381aea6",
   "metadata": {
    "execution": {
     "iopub.execute_input": "2024-06-24T11:16:16.329283Z",
     "iopub.status.busy": "2024-06-24T11:16:16.328882Z",
     "iopub.status.idle": "2024-06-24T11:16:16.391304Z",
     "shell.execute_reply": "2024-06-24T11:16:16.390164Z"
    },
    "papermill": {
     "duration": 0.069909,
     "end_time": "2024-06-24T11:16:16.393740",
     "exception": false,
     "start_time": "2024-06-24T11:16:16.323831",
     "status": "completed"
    },
    "tags": []
   },
   "outputs": [
    {
     "name": "stdout",
     "output_type": "stream",
     "text": [
      "{v1: 50.0404203718674, v2: 29.9110751818917, v3: 20.0485044462409}\n"
     ]
    }
   ],
   "source": [
    "soln1 = sym.solve(eqns1)\n",
    "print(soln1)"
   ]
  }
 ],
 "metadata": {
  "kaggle": {
   "accelerator": "none",
   "dataSources": [],
   "dockerImageVersionId": 30732,
   "isGpuEnabled": false,
   "isInternetEnabled": true,
   "language": "python",
   "sourceType": "notebook"
  },
  "kernelspec": {
   "display_name": "Python 3",
   "language": "python",
   "name": "python3"
  },
  "language_info": {
   "codemirror_mode": {
    "name": "ipython",
    "version": 3
   },
   "file_extension": ".py",
   "mimetype": "text/x-python",
   "name": "python",
   "nbconvert_exporter": "python",
   "pygments_lexer": "ipython3",
   "version": "3.10.13"
  },
  "papermill": {
   "default_parameters": {},
   "duration": 4.279431,
   "end_time": "2024-06-24T11:16:16.818549",
   "environment_variables": {},
   "exception": null,
   "input_path": "__notebook__.ipynb",
   "output_path": "__notebook__.ipynb",
   "parameters": {},
   "start_time": "2024-06-24T11:16:12.539118",
   "version": "2.5.0"
  }
 },
 "nbformat": 4,
 "nbformat_minor": 5
}
