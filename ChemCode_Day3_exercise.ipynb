{
  "nbformat": 4,
  "nbformat_minor": 0,
  "metadata": {
    "colab": {
      "provenance": []
    },
    "kernelspec": {
      "name": "python3",
      "display_name": "Python 3"
    },
    "language_info": {
      "name": "python"
    }
  },
  "cells": [
    {
      "cell_type": "markdown",
      "source": [
        "##(Ex1)\n",
        "###Calculator\n",
        "\n",
        "Create a basic calculator program that utilizes functions to perform arithmetic operations. The program should allow the user to input two numbers and select an operation to perform (addition, subtraction, multiplication, division).\n",
        "###**Instructions**:\n",
        "\n",
        "Write four functions, each for one of the four basic arithmetic operations (addition, subtraction, multiplication, division).\n",
        "\n",
        "Implement a main function that:\n",
        "1. Takes user input for two numbers.\n",
        "2. Takes user input to choose an operation.\n",
        "3. Calls the appropriate function based on the chosen operation and displays the result.\n",
        "\n",
        "A sample output should look something like this:\n",
        "\n",
        "\n",
        "--- Calculator ---\n",
        "\n",
        "Enter first number: 10\n",
        "Enter second number: 5\n",
        "\n",
        "Choose an operation:\n",
        "1. Add\n",
        "2. Subtract\n",
        "3. Multiply\n",
        "4. Divide\n",
        "Enter operation number: 3\n",
        "\n",
        "Result: 10 * 5 = 50\n",
        "\n",
        "##**Hint**: Try to break down the problem into simple tasks and write your code without functions first. Then enclose everything into functions when the 'bare' code works!\n",
        "\n",
        "###**The lecture video will help with function definitions**"
      ],
      "metadata": {
        "id": "x3zffKK8y4Di"
      }
    },
    {
      "cell_type": "code",
      "source": [
        "num1 = int(input(\"Enter first number: \"))\n",
        "num2 = int(input(\"Enter second number: \"))\n",
        "\n",
        "operation = int(input(\"Choose an operation: \\n1. Add\\n2. Subtract\\n3. Multiply\\n4. Divide\\nEnter operation number: \"))\n",
        "\n",
        "if operation == 1:\n",
        "  print(num1 + num2)\n",
        "\n",
        "elif operation == 2:\n",
        "  print(num1 - num2)\n",
        "\n",
        "elif operation == 3:\n",
        "  print(num1 * num2)\n",
        "\n",
        "elif operation == 4:\n",
        "  print(num1 / num2)"
      ],
      "metadata": {
        "id": "DgofBW3w6nTp",
        "colab": {
          "base_uri": "https://localhost:8080/"
        },
        "outputId": "9fc4a482-7153-465b-9995-fad4edafd318"
      },
      "execution_count": 1,
      "outputs": [
        {
          "output_type": "stream",
          "name": "stdout",
          "text": [
            "Enter first number: 9\n",
            "Enter second number: 3\n",
            "Choose an operation: \n",
            "1. Add\n",
            "2. Subtract\n",
            "3. Multiply\n",
            "4. Divide\n",
            "Enter operation number: 4\n",
            "3.0\n"
          ]
        }
      ]
    },
    {
      "cell_type": "code",
      "source": [
        "def calculator():\n",
        "    num1 = int(input(\"Enter first number: \"))\n",
        "    num2 = int(input(\"Enter second number: \"))\n",
        "\n",
        "    operation = int(input(\"Choose an operation: \\n1. Add\\n2. Subtract\\n3. Multiply\\n4. Divide\\nEnter operation number: \"))\n",
        "\n",
        "    if operation == 1:\n",
        "        print(num1 + num2)\n",
        "\n",
        "    elif operation == 2:\n",
        "        print(num1 - num2)\n",
        "\n",
        "    elif operation == 3:\n",
        "        print(num1 * num2)\n",
        "\n",
        "    elif operation == 4:\n",
        "        print(num1 / num2)\n",
        "\n",
        "calculator()"
      ],
      "metadata": {
        "colab": {
          "base_uri": "https://localhost:8080/"
        },
        "id": "MS6OsMWSoypf",
        "outputId": "52d2b2e5-ed45-4c1b-ed5b-7624c3c4ac7d"
      },
      "execution_count": 7,
      "outputs": [
        {
          "output_type": "stream",
          "name": "stdout",
          "text": [
            "Enter first number: 3\n",
            "Enter second number: 4\n",
            "Choose an operation: \n",
            "1. Add\n",
            "2. Subtract\n",
            "3. Multiply\n",
            "4. Divide\n",
            "Enter operation number: 3\n",
            "12\n"
          ]
        }
      ]
    },
    {
      "cell_type": "markdown",
      "source": [
        "##(Ex2)\n",
        "###Temperature converter:\n",
        "\n",
        "Create a program that converts temperatures between Fahrenheit and Celsius scales using functions. The program should allow the user to input a temperature and choose the conversion direction.\n",
        "\n",
        "###Instructions:\n",
        "\n",
        "1. Write a function fahrenheit_to_celsius(fahrenheit) that takes a temperature in Fahrenheit and returns the equivalent temperature in Celsius.\n",
        "\n",
        "2. Write a function celsius_to_fahrenheit(celsius) that takes a temperature in Celsius and returns the equivalent temperature in Fahrenheit.\n",
        "####Use the conversion formulas:\n",
        "####Fahrenheit to Celsius: (F - 32) * 5/9\n",
        "####elsius to Fahrenheit: (C * 9/5) + 32\n",
        "\n",
        "3. Implement a converter() function that:\n",
        "\n",
        "4. Takes user input for the conversion direction (F to C or C to F).\n",
        "5. Takes user input for the temperature to be converted.\n",
        "6. Calls the appropriate conversion function based on the user's choice.\n",
        "7. Displays the converted temperature.\n",
        "\n",
        "###**Hint**: Again, break down into small tasks. Once all the small pieces of the code work, combine them together with a function.\n",
        "\n",
        "###**Watch the lecture video for clarity on functions with return statements.**"
      ],
      "metadata": {
        "id": "C0n3KV3J7cQq"
      }
    },
    {
      "cell_type": "code",
      "source": [
        "def fahrenheit_to_celsius():\n",
        "    fahrenheit = float(input(\"Enter temperature in Fahrenheit: \"))\n",
        "    celsius = (fahrenheit - 32) * 5/9\n",
        "    return celsius\n",
        "\n",
        "fahrenheit_to_celsius()"
      ],
      "metadata": {
        "id": "rscvp1Kr7Omt",
        "colab": {
          "base_uri": "https://localhost:8080/"
        },
        "outputId": "1538694b-33c2-4100-86a1-ecbf9b15ae1d"
      },
      "execution_count": 8,
      "outputs": [
        {
          "name": "stdout",
          "output_type": "stream",
          "text": [
            "Enter temperature in Fahrenheit: 212\n"
          ]
        },
        {
          "output_type": "execute_result",
          "data": {
            "text/plain": [
              "100.0"
            ]
          },
          "metadata": {},
          "execution_count": 8
        }
      ]
    },
    {
      "cell_type": "code",
      "source": [
        "def celsius_to_fahrenheit():\n",
        "    celsius = float(input(\"Enter temperature in Celsius: \"))\n",
        "    fahrenheit = (celsius * 9/5) + 32\n",
        "    return fahrenheit\n",
        "\n",
        "celsius_to_fahrenheit()"
      ],
      "metadata": {
        "colab": {
          "base_uri": "https://localhost:8080/"
        },
        "id": "Seztzl9jrJ8B",
        "outputId": "b7a91f67-2628-4f68-aaa9-c957b145a595"
      },
      "execution_count": 10,
      "outputs": [
        {
          "name": "stdout",
          "output_type": "stream",
          "text": [
            "Enter temperature in Celsius: 0\n"
          ]
        },
        {
          "output_type": "execute_result",
          "data": {
            "text/plain": [
              "32.0"
            ]
          },
          "metadata": {},
          "execution_count": 10
        }
      ]
    },
    {
      "cell_type": "code",
      "source": [
        "def converter():\n",
        "    direction = input(\"Enter conversion direction \\n1. F to C \\n2. C to F \\nEnter the number to choose direction: \")\n",
        "    if direction == \"1\":\n",
        "        print(fahrenheit_to_celsius())\n",
        "    elif direction == \"2\":\n",
        "        print(celsius_to_fahrenheit())\n",
        "\n",
        "converter()\n"
      ],
      "metadata": {
        "colab": {
          "base_uri": "https://localhost:8080/"
        },
        "id": "h0dWjYygrXe4",
        "outputId": "ba21c1bf-f18d-48ec-e21e-08fc13dc97ae"
      },
      "execution_count": 14,
      "outputs": [
        {
          "output_type": "stream",
          "name": "stdout",
          "text": [
            "Enter conversion direction \n",
            "1. F to C \n",
            "2. C to F \n",
            "Enter the number to choose direction: 1\n",
            "Enter temperature in Fahrenheit: 312\n",
            "155.55555555555554\n"
          ]
        }
      ]
    }
  ]
}